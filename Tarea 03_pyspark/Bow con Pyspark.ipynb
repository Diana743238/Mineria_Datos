{
 "cells": [
  {
   "cell_type": "markdown",
   "id": "3630a20a",
   "metadata": {},
   "source": [
    "### 🔶BAGOFWORDS con pyspark\n",
    "* Alumna : Leydi Diana Choque Sarmiento"
   ]
  },
  {
   "cell_type": "code",
   "execution_count": 5,
   "id": "834630e4",
   "metadata": {},
   "outputs": [],
   "source": [
    "import math"
   ]
  },
  {
   "cell_type": "code",
   "execution_count": 1,
   "id": "14bb7318",
   "metadata": {},
   "outputs": [],
   "source": [
    "def BOW(Corpus):\n",
    "  \n",
    "  x = Corpus.strip().lower().split()\n",
    "  return list(filter(lambda x: len(x)>2,x)) # solo palabras mayor a dos de tamaño"
   ]
  },
  {
   "cell_type": "code",
   "execution_count": 17,
   "id": "d369d971",
   "metadata": {},
   "outputs": [
    {
     "data": {
      "text/plain": [
       "[['balon',\n",
       "  'balon',\n",
       "  'balon',\n",
       "  'futbol',\n",
       "  'futbol',\n",
       "  'liga',\n",
       "  'liga',\n",
       "  'liga',\n",
       "  'ronaldo',\n",
       "  'ronaldo',\n",
       "  'ronaldo',\n",
       "  'messi'],\n",
       " ['futbol',\n",
       "  'futbol',\n",
       "  'futbol',\n",
       "  'futbol',\n",
       "  'futbol',\n",
       "  'ronaldo',\n",
       "  'ronaldo',\n",
       "  'ronaldo',\n",
       "  'ronaldo',\n",
       "  'messi',\n",
       "  'messi'],\n",
       " ['balon',\n",
       "  'balon',\n",
       "  'futbol',\n",
       "  'futbol',\n",
       "  'futbol',\n",
       "  'futbol',\n",
       "  'futbol',\n",
       "  'futbol',\n",
       "  'messi',\n",
       "  'messi',\n",
       "  'messi',\n",
       "  'messi']]"
      ]
     },
     "execution_count": 17,
     "metadata": {},
     "output_type": "execute_result"
    }
   ],
   "source": [
    "CORPUS = [\"balon balon balon futbol futbol liga liga liga ronaldo ronaldo ronaldo messi\",\n",
    "            \"futbol futbol futbol futbol futbol ronaldo ronaldo ronaldo ronaldo messi messi\",\n",
    "            \"balon balon futbol futbol futbol futbol futbol futbol messi messi messi messi\",\n",
    "            \"politica politica politica pp pp pp pp pp pp rajoy rajoy rajoy rajoy rajoy\",\n",
    "            \"politica politica politica politica pp pp psoe psoe psoe psoe zapatero zapatero rajoy\",\n",
    "            \"politica politica politica psoe psoe psoe psoe zapatero zapatero zapatero zapatero \",\n",
    "            \"dinero fmi fmi fmi fmi fmi ue ue ue ue pib pib pib ibex ibex\",\n",
    "            \"zapatero rajoy dinero dinero dinero dinero fmi fmi fmi fmi ue ue ue ue pib\",\n",
    "            \"pp psoe zapatero rajoy dinero dinero dinero dinero fmi fmi fmi fmi ue ue ue \",\n",
    "            \"futbol politica pib\",\n",
    "            \"futbol liga politica zapatero rajoy\"]\n",
    "\n",
    "Corpus_words = sc.parallelize(CORPUS,6)\n",
    "Corpus_words = Corpus_words.map(BOW)\n",
    "Corpus_words.take(3)"
   ]
  },
  {
   "cell_type": "markdown",
   "id": "137239e9",
   "metadata": {},
   "source": [
    "### TF"
   ]
  },
  {
   "cell_type": "code",
   "execution_count": 4,
   "id": "6f2064b1",
   "metadata": {},
   "outputs": [],
   "source": [
    "def TF_Implementado(Corpus):   \n",
    "    # Calculamos words del corpus\n",
    "    cant_words=len(Corpus)\n",
    "    # Obtener lista sin las repeticiones del corpus\n",
    "    cant_sin_duplicar=list(set(Corpus))\n",
    "\n",
    "    #Obtenemos el tf para cada palabra\n",
    "    mapeo=list(map(lambda x:(x,Corpus.count(x)),cant_sin_duplicar))\n",
    "    \n",
    "    tf=list(map(lambda x:(x[0],1+math.log10(x[1]/cant_words)),mapeo))# Calculamos logaritmicamente\n",
    "\n",
    "    return (tf)"
   ]
  },
  {
   "cell_type": "code",
   "execution_count": 7,
   "id": "5fa5af8f",
   "metadata": {},
   "outputs": [
    {
     "data": {
      "text/plain": [
       "[[('ronaldo', 0.3979400086720376),\n",
       "  ('futbol', 0.22184874961635637),\n",
       "  ('messi', -0.07918124604762489),\n",
       "  ('liga', 0.3979400086720376),\n",
       "  ('balon', 0.3979400086720376)],\n",
       " [('ronaldo', 0.5606673061697374),\n",
       "  ('futbol', 0.6575773191777937),\n",
       "  ('messi', 0.2596373105057561)]]"
      ]
     },
     "execution_count": 7,
     "metadata": {},
     "output_type": "execute_result"
    }
   ],
   "source": [
    "Corpus_words = sc.parallelize(CORPUS,3)\n",
    "Corpus_words = Corpus_words.map(BOW)\n",
    "Corpus_TF=Corpus_words.map(TF_Implementado)\n",
    "Corpus_TF.take(2)"
   ]
  },
  {
   "cell_type": "markdown",
   "id": "f18ac8c9",
   "metadata": {},
   "source": [
    "### IDF"
   ]
  },
  {
   "cell_type": "code",
   "execution_count": 8,
   "id": "5ab959bc",
   "metadata": {},
   "outputs": [],
   "source": [
    "def IDF_Implementacion(Document,corpus):\n",
    "    Documento_New=Document.flatMap(lambda x:x)\n",
    "    Documento_New=Documento_New.map(lambda x:x[0]).distinct()\n",
    "     \n",
    "    total=corpus.count()\n",
    "    corpus_collection=corpus.collect()\n",
    "     \n",
    "    IDF=Documento_New.map(lambda x:list(map(lambda y:(x,1 if x in y else 0),corpus_collection)))\n",
    "    IDF_new=IDF.flatMap(lambda x:x)\n",
    "    IDF_new=IDF_new.groupByKey().map(lambda x:(x[0],sum(x[1])))\n",
    "    IDF_new=IDF_new.map(lambda x:(x[0],math.log10(1+total/x[1]))) \n",
    "    return IDF_new"
   ]
  },
  {
   "cell_type": "markdown",
   "id": "5bf5602f",
   "metadata": {},
   "source": [
    "### IDF de cada palabra"
   ]
  },
  {
   "cell_type": "code",
   "execution_count": 10,
   "id": "14e095dc",
   "metadata": {},
   "outputs": [],
   "source": [
    "def IDF_word(word,corpusIDF):\n",
    "         \n",
    "        L=corpusIDF\n",
    "        EL=list(filter(lambda x:x[0]==word,L))\n",
    "        return EL[0][1]"
   ]
  },
  {
   "cell_type": "markdown",
   "id": "4262e7f5",
   "metadata": {},
   "source": [
    "### TF_IDF"
   ]
  },
  {
   "cell_type": "code",
   "execution_count": 14,
   "id": "682f2021",
   "metadata": {},
   "outputs": [],
   "source": [
    "def TF_IDF(TextoTF,TextoIDF):\n",
    "    \"\"\"Funcion que calcula el IDF para cada Doc de TF\"\"\"\n",
    "    corpusIDF=TextoIDF.collect()\n",
    "    TFIDF=TextoTF.map(lambda x:list(map((lambda y:(y[0],y[1]*IDF_word(y[0],corpusIDF))),x)))\n",
    "    return  TFIDF"
   ]
  },
  {
   "cell_type": "code",
   "execution_count": 18,
   "id": "5cc26b53",
   "metadata": {},
   "outputs": [
    {
     "data": {
      "text/plain": [
       "[[('ronaldo', 0.32349074819207313),\n",
       "  ('futbol', 0.11206689105900068),\n",
       "  ('messi', -0.052972790530610464),\n",
       "  ('liga', 0.32349074819207313),\n",
       "  ('balon', 0.32349074819207313)],\n",
       " [('ronaldo', 0.4557739418183488),\n",
       "  ('futbol', 0.33217516852632445),\n",
       "  ('messi', 0.17369912131819806)],\n",
       " [('futbol', 0.3530846825366045),\n",
       "  ('messi', 0.3498094262116576),\n",
       "  ('balon', 0.18034381171765268)],\n",
       " [('rajoy', 0.40203877350660605), ('politica', 0.28997188244760536)],\n",
       " [('zapatero', 0.13115578177302142),\n",
       "  ('rajoy', -0.020909514010280014),\n",
       "  ('psoe', 0.3750902296893321),\n",
       "  ('politica', 0.283221077556323)],\n",
       " [('zapatero', 0.283221077556323),\n",
       "  ('psoe', 0.3750902296893321),\n",
       "  ('politica', 0.22010827746732375)],\n",
       " [('ibex', 0.280195716272056),\n",
       "  ('fmi', 0.43992368553450556),\n",
       "  ('pib', 0.291505367693982),\n",
       "  ('dinero', -0.02769198705293586)],\n",
       " [('fmi', 0.3750902296893321),\n",
       "  ('rajoy', -0.020909514010280014),\n",
       "  ('dinero', 0.3750902296893321),\n",
       "  ('zapatero', -0.020909514010280014),\n",
       "  ('pib', -0.02769198705293586)],\n",
       " [('fmi', 0.3750902296893321),\n",
       "  ('rajoy', -0.020909514010280014),\n",
       "  ('psoe', -0.02769198705293586),\n",
       "  ('dinero', 0.3750902296893321),\n",
       "  ('zapatero', -0.020909514010280014)],\n",
       " [('futbol', 0.26413218684230216),\n",
       "  ('pib', 0.3498094262116576),\n",
       "  ('politica', 0.26413218684230216)],\n",
       " [('rajoy', 0.15206529578330155),\n",
       "  ('zapatero', 0.15206529578330155),\n",
       "  ('futbol', 0.15206529578330155),\n",
       "  ('politica', 0.15206529578330155),\n",
       "  ('liga', 0.24471130422539125)]]"
      ]
     },
     "execution_count": 18,
     "metadata": {},
     "output_type": "execute_result"
    }
   ],
   "source": [
    "Corpus_words = sc.parallelize(CORPUS,3)\n",
    "Corpus_words = Corpus_words.map(BOW)\n",
    "Corpus_TF = Corpus_words.map(TF_Implementado)\n",
    "Corpus_IDF = IDF_Implementacion(Corpus_TF,Corpus_words)\n",
    "Corpus_TF_IDF = TF_IDF(Corpus_TF,Corpus_IDF)\n",
    "Corpus_TF_IDF.collect()"
   ]
  },
  {
   "cell_type": "code",
   "execution_count": null,
   "id": "c8079111",
   "metadata": {},
   "outputs": [],
   "source": []
  }
 ],
 "metadata": {
  "kernelspec": {
   "display_name": "Python 3",
   "language": "python",
   "name": "python3"
  },
  "language_info": {
   "codemirror_mode": {
    "name": "ipython",
    "version": 3
   },
   "file_extension": ".py",
   "mimetype": "text/x-python",
   "name": "python",
   "nbconvert_exporter": "python",
   "pygments_lexer": "ipython3",
   "version": "3.8.8"
  }
 },
 "nbformat": 4,
 "nbformat_minor": 5
}
