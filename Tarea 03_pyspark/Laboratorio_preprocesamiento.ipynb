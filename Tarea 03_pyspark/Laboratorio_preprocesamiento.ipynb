{
 "cells": [
  {
   "cell_type": "markdown",
   "metadata": {
    "id": "O4PT_68QqdCc"
   },
   "source": [
    "## 🔶Mineria de DatosPreprocesamiento con  PySpark\n",
    "\n",
    "### 🙋‍♀️ Alumna : Leydi Diana Choque Sarmiento"
   ]
  },
  {
   "cell_type": "markdown",
   "metadata": {
    "id": "MhdElc19rHeb"
   },
   "source": [
    "### 🔰Librerias\n"
   ]
  },
  {
   "cell_type": "code",
   "execution_count": 16,
   "metadata": {
    "id": "W_dtjnqBqV77"
   },
   "outputs": [],
   "source": [
    "import numpy as np\n",
    "import math "
   ]
  },
  {
   "cell_type": "markdown",
   "metadata": {
    "id": "MC_FRONwsPSq"
   },
   "source": [
    "## 🔰 1. Normalizacion"
   ]
  },
  {
   "cell_type": "code",
   "execution_count": 22,
   "metadata": {
    "colab": {
     "base_uri": "https://localhost:8080/"
    },
    "id": "Kma6HL20sXYy",
    "outputId": "6563db91-2013-45b1-c4c4-2e7ea3263552"
   },
   "outputs": [
    {
     "data": {
      "text/plain": [
       "[0.020121090914638342,\n",
       " 0.040242181829276684,\n",
       " 0.06036327274391503,\n",
       " 0.08048436365855337,\n",
       " 0.10060545457319171,\n",
       " 0.12072654548783006,\n",
       " 0.1408476364024684,\n",
       " 0.16096872731710674,\n",
       " 0.18108981823174508,\n",
       " 0.20121090914638343,\n",
       " 0.22133200006102177,\n",
       " 0.24145309097566012,\n",
       " 0.26157418189029846,\n",
       " 0.2816952728049368,\n",
       " 0.30181636371957515,\n",
       " 0.32193745463421347,\n",
       " 0.34205854554885184,\n",
       " 0.36217963646349016,\n",
       " 0.3823007273781285]"
      ]
     },
     "execution_count": 22,
     "metadata": {},
     "output_type": "execute_result"
    }
   ],
   "source": [
    "#Modulo para normalizar los elementos de un RDD: Tiene como entrada un arreglo RDD y como salida este arreglo normalizado\n",
    "def normalizacion(x):\n",
    "    listaCuadrada=x.map(lambda xi:xi*xi)\n",
    "    total=listaCuadrada.sum()\n",
    "    val=math.sqrt(total)\n",
    "    lista= x.map(lambda xi :(xi/val))\n",
    "    return lista\n",
    "#Ejemplo\n",
    "Vector= sc.parallelize(range(1,20),4)\n",
    "VectorEscalonada=normalizacion(Vector)\n",
    "VectorEscalonada.collect()"
   ]
  },
  {
   "cell_type": "markdown",
   "metadata": {
    "id": "ZCg5VGypuXz6"
   },
   "source": [
    "## 🔰 2. Binario"
   ]
  },
  {
   "cell_type": "code",
   "execution_count": 18,
   "metadata": {
    "colab": {
     "base_uri": "https://localhost:8080/"
    },
    "id": "ODMnq6p_uXXU",
    "outputId": "6d44619a-1db4-4020-90a1-440a6ea2a738"
   },
   "outputs": [
    {
     "data": {
      "text/plain": [
       "[[('Perisic', 1),\n",
       "  ('Carlos', 1),\n",
       "  ('Messi', 1),\n",
       "  ('Ronaldo', 1),\n",
       "  ('Salvio', 1),\n",
       "  ('McKennie', 1)],\n",
       " [('Pedro', 1), ('Cazorla', 1)]]"
      ]
     },
     "execution_count": 18,
     "metadata": {},
     "output_type": "execute_result"
    }
   ],
   "source": [
    "# Modulo para extraer  los elementos string para convertirlo a un arreglo de tuplas\n",
    "def Binario(Doc):\n",
    "    val=map(lambda x:(x,1),Doc)\n",
    "    return list(val)\n",
    "\n",
    "A=[[\"Perisic\",\"Carlos\",\"Messi\",\"Ronaldo\",\"Salvio\",\"McKennie\"]\n",
    "    ,[\"Pedro\",\"Cazorla\"]]\n",
    "ejemplo=A[0]\n",
    "(Binario(ejemplo))\n",
    "Vec = sc.parallelize(A,4)\n",
    "Vec2 = Vec.map(lambda x:Binario(x))\n",
    "Vec2.collect()"
   ]
  },
  {
   "cell_type": "markdown",
   "metadata": {
    "id": "z2OkaQK2vVPB"
   },
   "source": [
    "## 🔰 3. Escalamiento\n",
    " "
   ]
  },
  {
   "cell_type": "code",
   "execution_count": 19,
   "metadata": {
    "colab": {
     "base_uri": "https://localhost:8080/"
    },
    "id": "eE5lPpvmuSt5",
    "outputId": "07bed718-dccd-427e-db68-54a65b91c342"
   },
   "outputs": [
    {
     "data": {
      "text/plain": [
       "[0.020121090914638342,\n",
       " 0.040242181829276684,\n",
       " 0.06036327274391503,\n",
       " 0.08048436365855337,\n",
       " 0.10060545457319171,\n",
       " 0.12072654548783006,\n",
       " 0.1408476364024684,\n",
       " 0.16096872731710674,\n",
       " 0.18108981823174508,\n",
       " 0.20121090914638343,\n",
       " 0.22133200006102177,\n",
       " 0.24145309097566012,\n",
       " 0.26157418189029846,\n",
       " 0.2816952728049368,\n",
       " 0.30181636371957515,\n",
       " 0.32193745463421347,\n",
       " 0.34205854554885184,\n",
       " 0.36217963646349016,\n",
       " 0.3823007273781285]"
      ]
     },
     "execution_count": 19,
     "metadata": {},
     "output_type": "execute_result"
    }
   ],
   "source": [
    "#modulo para escalar los elementos de un RDD y retrorna un arreglo de elementos escalonados\n",
    "def escalamiento(x):\n",
    "    #se obtiene elemento minumo y maximo del RDD\n",
    "    minimo = x.min()\n",
    "    maximo = x.max()\n",
    "    #escalonamos cada elemento con la funion map\n",
    "    lista= x.map(lambda xi : (xi-minimo)/(maximo-minimo))\n",
    "    return lista \n",
    "#Ejemplo\n",
    "Vector= sc.parallelize(range(1,20),4)\n",
    "VectorEscalonada=normalizacion(Vector)\n",
    "\n",
    "VectorEscalonada.collect()"
   ]
  },
  {
   "cell_type": "markdown",
   "metadata": {
    "id": "puDnEbVnwvYD"
   },
   "source": [
    "## 🔰 4. Similitud de cosenos\n"
   ]
  },
  {
   "cell_type": "code",
   "execution_count": 20,
   "metadata": {
    "colab": {
     "base_uri": "https://localhost:8080/"
    },
    "id": "w7pOzUb6wdvi",
    "outputId": "6d564c9c-a67a-4e0f-d3e6-4d472939f3ee"
   },
   "outputs": [
    {
     "name": "stdout",
     "output_type": "stream",
     "text": [
      "1.0816044550832321e-06\n"
     ]
    }
   ],
   "source": [
    "#Para este modulo necesitamos un modulo que calcule producto punto de dos arrays\n",
    "def punto(x,y):\n",
    "    return x.zip(y).map(lambda x: x[0]*x[1]).reduce(lambda x , y :x+y)\n",
    "#Moduloo de distacia de cosenos que calcula la ditancia de dos elementos de un RDD, este modulo retorna \n",
    "def SimilitudCosenos(x,y):\n",
    "    num=punto(x,y)\n",
    "    den=punto(x,x)*punto(y,y)\n",
    "    return num/den\n",
    "\n",
    "#Ejemplo \n",
    "x = sc.parallelize(range(0,100),4)\n",
    "y = sc.parallelize(range(100, 200),4)\n",
    "\n",
    "print(SimilitudCosenos(x,y))\n",
    "\n"
   ]
  },
  {
   "cell_type": "markdown",
   "metadata": {
    "id": "StQTRXQF1JBB"
   },
   "source": [
    "## 🔰5.Distancia de Minkowski"
   ]
  },
  {
   "cell_type": "code",
   "execution_count": 21,
   "metadata": {
    "colab": {
     "base_uri": "https://localhost:8080/"
    },
    "id": "H5vkI-ZK2pII",
    "outputId": "871cef20-7b86-4170-cb2e-4b5fbce0851d"
   },
   "outputs": [
    {
     "name": "stdout",
     "output_type": "stream",
     "text": [
      "Min valor de Minkowski:  0.0\n",
      "Max valor de Minkowki:  1.9967644713518153\n",
      "Media de los valores minkowski:  1.8632500224411412\n"
     ]
    }
   ],
   "source": [
    "# Primero crearemos un modulo para hacer opreciones de potencia aplicado a un parametro\n",
    "def Power(p):\n",
    "    def Dist(x,y):\n",
    "        return np.power(np.power(np.abs(x-y),p).sum(),1/float(p))\n",
    "    return Dist\n",
    "# Creamos un RDD con valores aleatorios\n",
    "# Creemos un RDD con valores numéricos.\n",
    "np.random.seed(20)\n",
    "num_p = sc.parallelize(enumerate(np.random.random(size=(100,500))))\n",
    "# Teniendo un modulo que hace las opreciones de potencia calculamos la distancia Minkowski \n",
    "dat_p = num_p.cartesian(num_p)\n",
    "dato_p = dat_p.map(lambda x: ((x[0][0],x[1][0]), (x[0][1],x[1][1])))\n",
    "\n",
    "# El valor de p puede tomar diferenctes valores miesntras pse igual a 1 se parece mas a la distancia de Manhattan\n",
    "# Mientras p tome el valor de 2 mas se parece a la distancia ecuclideana\n",
    "#Para este caso tenemos:\n",
    "p=5\n",
    "Minkowski = Power(p)\n",
    "dist = dato_p.map(lambda x: (x[0], Minkowski(x[1][0],x[1][1])))\n",
    "soluc = dist.map(lambda x: x[1])\n",
    "minv, maxv, meanv = soluc.min(), soluc.max(), soluc.mean()\n",
    "\n",
    "print('Min valor de Minkowski: ',minv)\n",
    "print('Max valor de Minkowki: ',maxv)\n",
    "print('Media de los valores minkowski: ',meanv)\n"
   ]
  }
 ],
 "metadata": {
  "colab": {
   "name": "Ejercicios_de_preprocesamiento.ipynb",
   "provenance": []
  },
  "kernelspec": {
   "display_name": "Python 3",
   "language": "python",
   "name": "python3"
  },
  "language_info": {
   "codemirror_mode": {
    "name": "ipython",
    "version": 3
   },
   "file_extension": ".py",
   "mimetype": "text/x-python",
   "name": "python",
   "nbconvert_exporter": "python",
   "pygments_lexer": "ipython3",
   "version": "3.8.8"
  }
 },
 "nbformat": 4,
 "nbformat_minor": 1
}
